{
  "nbformat": 4,
  "nbformat_minor": 0,
  "metadata": {
    "colab": {
      "name": "cnn실습.ipynb",
      "provenance": [],
      "collapsed_sections": [],
      "authorship_tag": "ABX9TyNT+RSDMmqDDwhKgstt+WCD",
      "include_colab_link": true
    },
    "kernelspec": {
      "name": "python3",
      "display_name": "Python 3"
    }
  },
  "cells": [
    {
      "cell_type": "markdown",
      "metadata": {
        "id": "view-in-github",
        "colab_type": "text"
      },
      "source": [
        "<a href=\"https://colab.research.google.com/github/minseo0214/2020study/blob/master/cnn%EC%8B%A4%EC%8A%B5.ipynb\" target=\"_parent\"><img src=\"https://colab.research.google.com/assets/colab-badge.svg\" alt=\"Open In Colab\"/></a>"
      ]
    },
    {
      "cell_type": "code",
      "metadata": {
        "id": "rZEpYfBRaake",
        "colab_type": "code",
        "colab": {}
      },
      "source": [
        "import tensorflow as tf\n",
        "import keras \n",
        "\n",
        "from keras.models import Sequential\n",
        "from keras.layers import Conv2D, MaxPooling2D, Dense, Flatten, AveragePooling2D\n",
        "from keras.optimizers import Adam\n",
        "from keras.losses import sparse_categorical_crossentropy as scc\n",
        "from keras.datasets import cifar10\n",
        "\n",
        "import numpy as np\n",
        "import matplotlib.pyplot as plt"
      ],
      "execution_count": 1,
      "outputs": []
    },
    {
      "cell_type": "code",
      "metadata": {
        "id": "-M2Sale9apVA",
        "colab_type": "code",
        "colab": {}
      },
      "source": [
        "def build_model(width, height, channel):\n",
        "    model = Sequential() #초기화 진행\n",
        "    \n",
        "    model.add(Conv2D(\n",
        "        filters=16,\n",
        "        kernel_size=(3,3),\n",
        "        padding='same',\n",
        "        activation='relu',\n",
        "        input_shape=(width, height, channel) #처음에만 넣어줌.\n",
        "    ))\n",
        "    model.add(Conv2D(\n",
        "        filters=16,\n",
        "        kernel_size=(3,3),\n",
        "        padding='same',\n",
        "        activation='relu'\n",
        "    ))\n",
        "    model.add(MaxPooling2D( #이미지가 반으로 줄어듬.\n",
        "        pool_size=(2,2),\n",
        "        padding='same'\n",
        "    ))\n",
        "\n",
        "    model.add(Conv2D(\n",
        "        filters=32,\n",
        "        kernel_size=(3,3),\n",
        "        padding='same',\n",
        "        activation='relu'\n",
        "    ))\n",
        "    model.add(Conv2D(\n",
        "        filters=64,\n",
        "        kernel_size=(3,3),\n",
        "        padding='same',\n",
        "        activation='relu'\n",
        "    ))\n",
        "    model.add(AveragePooling2D(\n",
        "        pool_size=(8,8),\n",
        "        padding='same'\n",
        "    ))\n",
        "\n",
        "    model.add(Flatten())\n",
        "    model.add(Dense(\n",
        "        units=640,\n",
        "        activation='relu'\n",
        "    ))\n",
        "    model.add(Dense(\n",
        "        units=10, #분류의 개수\n",
        "        activation='softmax'\n",
        "    ))\n",
        "\n",
        "    opt = Adam(learning_rate=0.001)\n",
        "    model.compile(\n",
        "        optimizer=opt,\n",
        "        loss=scc, #loss값은 항상 출력됨.\n",
        "        metrics=['accuracy'] #정확도를 출력하겠다.\n",
        "    )\n",
        "\n",
        "    return model"
      ],
      "execution_count": 12,
      "outputs": []
    },
    {
      "cell_type": "code",
      "metadata": {
        "id": "skoUueSlaqvC",
        "colab_type": "code",
        "colab": {}
      },
      "source": [
        "(x_train, y_train), (x_test, y_test) = cifar10.load_data()\n",
        "\n",
        "model = build_model(x_train.shape[1],x_train.shape[2],x_train.shape[3])"
      ],
      "execution_count": 13,
      "outputs": []
    },
    {
      "cell_type": "code",
      "metadata": {
        "id": "TwVSzDw2a12o",
        "colab_type": "code",
        "colab": {
          "base_uri": "https://localhost:8080/",
          "height": 417
        },
        "outputId": "be46152c-993a-40c5-90c5-db9dcc65b130"
      },
      "source": [
        "hist =  model.fit(\n",
        "        x_train, y_train, \n",
        "        batch_size=64, epochs=10, \n",
        "        verbose=1, \n",
        "        shuffle=True, validation_split=0.1\n",
        "    )\n",
        "    \n",
        "model.evaluate(x_test, y_test, verbose=1)"
      ],
      "execution_count": 15,
      "outputs": [
        {
          "output_type": "stream",
          "text": [
            "Epoch 1/10\n",
            "704/704 [==============================] - 111s 158ms/step - loss: 1.3886 - accuracy: 0.5007 - val_loss: 1.1888 - val_accuracy: 0.5860\n",
            "Epoch 2/10\n",
            "704/704 [==============================] - 113s 160ms/step - loss: 1.0777 - accuracy: 0.6224 - val_loss: 1.0165 - val_accuracy: 0.6474\n",
            "Epoch 3/10\n",
            "704/704 [==============================] - 113s 160ms/step - loss: 0.9189 - accuracy: 0.6770 - val_loss: 0.8696 - val_accuracy: 0.6940\n",
            "Epoch 4/10\n",
            "704/704 [==============================] - 113s 161ms/step - loss: 0.8123 - accuracy: 0.7182 - val_loss: 0.8433 - val_accuracy: 0.7014\n",
            "Epoch 5/10\n",
            "704/704 [==============================] - 113s 160ms/step - loss: 0.7327 - accuracy: 0.7435 - val_loss: 0.8071 - val_accuracy: 0.7196\n",
            "Epoch 6/10\n",
            "704/704 [==============================] - 113s 160ms/step - loss: 0.6565 - accuracy: 0.7676 - val_loss: 0.7832 - val_accuracy: 0.7332\n",
            "Epoch 7/10\n",
            "704/704 [==============================] - 113s 160ms/step - loss: 0.6009 - accuracy: 0.7884 - val_loss: 0.8138 - val_accuracy: 0.7334\n",
            "Epoch 8/10\n",
            "704/704 [==============================] - 114s 161ms/step - loss: 0.5477 - accuracy: 0.8062 - val_loss: 0.7740 - val_accuracy: 0.7482\n",
            "Epoch 9/10\n",
            "704/704 [==============================] - 113s 160ms/step - loss: 0.4969 - accuracy: 0.8257 - val_loss: 0.7497 - val_accuracy: 0.7628\n",
            "Epoch 10/10\n",
            "704/704 [==============================] - 113s 160ms/step - loss: 0.4615 - accuracy: 0.8378 - val_loss: 0.7782 - val_accuracy: 0.7532\n",
            "313/313 [==============================] - 8s 24ms/step - loss: 0.7947 - accuracy: 0.7468\n"
          ],
          "name": "stdout"
        },
        {
          "output_type": "execute_result",
          "data": {
            "text/plain": [
              "[0.7947245240211487, 0.7468000054359436]"
            ]
          },
          "metadata": {
            "tags": []
          },
          "execution_count": 15
        }
      ]
    },
    {
      "cell_type": "code",
      "metadata": {
        "id": "4NVJS8Zccv3_",
        "colab_type": "code",
        "colab": {
          "base_uri": "https://localhost:8080/",
          "height": 53
        },
        "outputId": "7a47ffe0-76b9-48df-fedf-36413824ab8a"
      },
      "source": [
        "model.evaluate(\n",
        "    x_test,y_test,\n",
        "    batch_size = 64,\n",
        "    verbose = 1\n",
        "  )"
      ],
      "execution_count": 16,
      "outputs": [
        {
          "output_type": "stream",
          "text": [
            "157/157 [==============================] - 7s 45ms/step - loss: 0.7947 - accuracy: 0.7468\n"
          ],
          "name": "stdout"
        },
        {
          "output_type": "execute_result",
          "data": {
            "text/plain": [
              "[0.7947243452072144, 0.7468000054359436]"
            ]
          },
          "metadata": {
            "tags": []
          },
          "execution_count": 16
        }
      ]
    },
    {
      "cell_type": "code",
      "metadata": {
        "id": "roFdnRp4c2dc",
        "colab_type": "code",
        "colab": {
          "base_uri": "https://localhost:8080/",
          "height": 545
        },
        "outputId": "3f6aecd0-f92f-4efa-d43b-87baa95d783f"
      },
      "source": [
        "plt.plot(hist.history['loss']) #정답과 얼마나 거리가 있는가.\n",
        "plt.title(\"loss history\")\n",
        "plt.show()\n",
        "\n",
        "plt.plot(hist.history['accuracy']) #정확도가 얼마나 들어나는가\n",
        "plt.title(\"acc history\")\n",
        "\n",
        "plt.show()"
      ],
      "execution_count": 17,
      "outputs": [
        {
          "output_type": "display_data",
          "data": {
            "image/png": "[encoded data removed]",
            "text/plain": [
              "<Figure size 432x288 with 1 Axes>"
            ]
          },
          "metadata": {
            "tags": [],
            "needs_background": "light"
          }
        },
        {
          "output_type": "display_data",
          "data": {
            "image/png": "[encoded data removed]",
            "text/plain": [
              "<Figure size 432x288 with 1 Axes>"
            ]
          },
          "metadata": {
            "tags": [],
            "needs_background": "light"
          }
        }
      ]
    }
  ]
}