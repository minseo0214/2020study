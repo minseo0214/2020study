{
  "nbformat": 4,
  "nbformat_minor": 0,
  "metadata": {
    "colab": {
      "name": "Combination.ipynb",
      "provenance": [],
      "authorship_tag": "ABX9TyM44SAM9bJkHNefJ2PyKGzX",
      "include_colab_link": true
    },
    "kernelspec": {
      "name": "python3",
      "display_name": "Python 3"
    }
  },
  "cells": [
    {
      "cell_type": "markdown",
      "metadata": {
        "id": "view-in-github",
        "colab_type": "text"
      },
      "source": [
        "<a href=\"https://colab.research.google.com/github/minseo0214/2020study/blob/master/Combination.ipynb\" target=\"_parent\"><img src=\"https://colab.research.google.com/assets/colab-badge.svg\" alt=\"Open In Colab\"/></a>"
      ]
    },
    {
      "cell_type": "markdown",
      "metadata": {
        "id": "bfmzS8J6Fqxy",
        "colab_type": "text"
      },
      "source": [
        "###### 20182782 수학과 3학년최민서\n",
        "###### combination 함수"
      ]
    },
    {
      "cell_type": "code",
      "metadata": {
        "id": "BVoZ5LKTFTw_",
        "colab_type": "code",
        "colab": {}
      },
      "source": [
        "def AllnCr(array):\n",
        "    b = list(set(array)) #받은 리스트의 중복되는 것을 없앰\n",
        "    start = 0            #위치상으로 첫번째부터 제거하면서 조합을 찾음 \n",
        "    max = len(b)\n",
        "    def nCr(array_in,start,max):\n",
        "        temp_array = []\n",
        "        for i in range(start,len(array_in)):\n",
        "            t = array_in.copy()\n",
        "            del t[i]\n",
        "            temp_array.append(t)\n",
        "            temp_array+=(nCr(t,i,max-1))\n",
        "        return temp_array\n",
        "    return nCr(b,start,max)+[b]"
      ],
      "execution_count": 1,
      "outputs": []
    },
    {
      "cell_type": "code",
      "metadata": {
        "id": "J6lXOc35FYZz",
        "colab_type": "code",
        "colab": {
          "base_uri": "https://localhost:8080/",
          "height": 53
        },
        "outputId": "02974ed8-e930-43ec-c289-bf852e7f024a"
      },
      "source": [
        "i = [0,1,1,1,1,1,1,5,5,5,5,2,2,2,2,2]\n",
        "b = AllnCr(i)\n",
        "print(b)    #공집합(nC0) 포함.\n",
        "#print(len(b))\n",
        "#원소가 있는 것과 없는 것 두가지 경우에서 n개가 있기 때문에 집합의 개수는 2^n만큼 나타나야함."
      ],
      "execution_count": 15,
      "outputs": [
        {
          "output_type": "stream",
          "text": [
            "[[1, 2, 5], [2, 5], [5], [], [2], [1, 5], [1], [1, 2], [0, 2, 5], [0, 5], [0], [0, 2], [0, 1, 5], [0, 1], [0, 1, 2], [0, 1, 2, 5]]\n",
            "16\n"
          ],
          "name": "stdout"
        }
      ]
    },
    {
      "cell_type": "code",
      "metadata": {
        "id": "OkpR74vaGfZa",
        "colab_type": "code",
        "colab": {
          "base_uri": "https://localhost:8080/",
          "height": 73
        },
        "outputId": "5787c9b0-3962-47b4-8bb8-1a7e76a6e74a"
      },
      "source": [
        "i = [1,2,3,4, 5,6]\n",
        "b = AllnCr(i)\n",
        "print(b)\n",
        "print(len(b))"
      ],
      "execution_count": 18,
      "outputs": [
        {
          "output_type": "stream",
          "text": [
            "[[2, 3, 4, 5, 6], [3, 4, 5, 6], [4, 5, 6], [5, 6], [6], [], [5], [4, 6], [4], [4, 5], [3, 5, 6], [3, 6], [3], [3, 5], [3, 4, 6], [3, 4], [3, 4, 5], [2, 4, 5, 6], [2, 5, 6], [2, 6], [2], [2, 5], [2, 4, 6], [2, 4], [2, 4, 5], [2, 3, 5, 6], [2, 3, 6], [2, 3], [2, 3, 5], [2, 3, 4, 6], [2, 3, 4], [2, 3, 4, 5], [1, 3, 4, 5, 6], [1, 4, 5, 6], [1, 5, 6], [1, 6], [1], [1, 5], [1, 4, 6], [1, 4], [1, 4, 5], [1, 3, 5, 6], [1, 3, 6], [1, 3], [1, 3, 5], [1, 3, 4, 6], [1, 3, 4], [1, 3, 4, 5], [1, 2, 4, 5, 6], [1, 2, 5, 6], [1, 2, 6], [1, 2], [1, 2, 5], [1, 2, 4, 6], [1, 2, 4], [1, 2, 4, 5], [1, 2, 3, 5, 6], [1, 2, 3, 6], [1, 2, 3], [1, 2, 3, 5], [1, 2, 3, 4, 6], [1, 2, 3, 4], [1, 2, 3, 4, 5], [1, 2, 3, 4, 5, 6]]\n",
            "64\n"
          ],
          "name": "stdout"
        }
      ]
    },
    {
      "cell_type": "markdown",
      "metadata": {
        "id": "87OTLMgZJmqR",
        "colab_type": "text"
      },
      "source": [
        "######tree를 그려서 규칙을 찾음\n",
        "######숫자를 선택해서 더하는 것은 전체에서 뺄것을 정하는 것과 같음.\n",
        "###### 빼는 것의 순서를 겹치지 않게 만들면 집합들은 겹치지 않습니다."
      ]
    }
  ]
}